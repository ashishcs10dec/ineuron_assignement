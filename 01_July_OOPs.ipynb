{
 "cells": [
  {
   "cell_type": "code",
   "execution_count": 1,
   "id": "aa1f4441",
   "metadata": {},
   "outputs": [],
   "source": [
    "# 1. What is the primary goal of Object-Oriented Programming (OOP)?\n",
    "#Ans1. The main purpose to use OOPs concept in our programming language is that it makes code easy understandable,\n",
    "#easy maintanance, resuability of code by using main four pillar of OOPs which are Abstraction, Encapsulation, Inharitance,\n",
    "#Polymorphism."
   ]
  },
  {
   "cell_type": "code",
   "execution_count": 3,
   "id": "19d4d4c7",
   "metadata": {},
   "outputs": [],
   "source": [
    "# 2. What is an object in Python?\n",
    "#Ans2. Object is an instance of a class which contains the methods and properties to make a particular type of data useful.\n",
    "# eg.\n",
    "class Person:\n",
    "    pass\n",
    "\n",
    "person=Person()\n",
    "# Here person is an object of class Person."
   ]
  },
  {
   "cell_type": "code",
   "execution_count": 5,
   "id": "617850b3",
   "metadata": {},
   "outputs": [
    {
     "name": "stdout",
     "output_type": "stream",
     "text": [
      "This is Person class\n"
     ]
    }
   ],
   "source": [
    "# 3. What is a class in Python?\n",
    "#Ans3. Class is an user defined layout or blueprint of an object. Class can contains multiple functions & objects. It help us\n",
    "#to bind method and data togather and making code reusable.\n",
    "\n",
    "class Person:\n",
    "    print('This is Person class')\n",
    "    \n",
    "# Here Person is a class."
   ]
  },
  {
   "cell_type": "code",
   "execution_count": 9,
   "id": "47943461",
   "metadata": {},
   "outputs": [
    {
     "name": "stdout",
     "output_type": "stream",
     "text": [
      "Name is Ashish\n",
      "Name updated with title - Mr. Ashish\n"
     ]
    }
   ],
   "source": [
    "# 4. What are attributes and methods in a class?\n",
    "#Ans4. Class attributes are that belongs to class itself rather than any particular method or function. All the method inside\n",
    "#the class can access the class attributes with the same value. Class methods are allowed to use class attributes and can change\n",
    "#update the value of class attribute but can not create an instance of it.\n",
    "\n",
    "class Person:\n",
    "    name='Ashish'\n",
    "    print(f'Name is {name}')\n",
    "    \n",
    "    def change_name(self):\n",
    "        name='Mr. Ashish'\n",
    "        print(F'Name updated with title - {name}')\n",
    "        \n",
    "person=Person()\n",
    "person.change_name()\n",
    "\n",
    "# As you can see in the above example; name is a class attribute and change_name is a method. Method updated the value of\n",
    "#class attribute."
   ]
  },
  {
   "cell_type": "code",
   "execution_count": 18,
   "id": "6918a109",
   "metadata": {},
   "outputs": [
    {
     "name": "stdout",
     "output_type": "stream",
     "text": [
      "Mr.\n",
      "You have entered - Mr. Ashish\n"
     ]
    }
   ],
   "source": [
    "# 5. What is the difference between class variables and instance variables in Python?\n",
    "#Ans5. Class variables are useful for storing data that is shared among all instances of a class, such as constants or\n",
    "#default values.\n",
    "#Instance variables are used to store data that is unique to each instance of a class, such as object properties.\n",
    "\n",
    "class Person:\n",
    "    \n",
    "    def __init__(self):\n",
    "        self.title='Mr.'\n",
    "    \n",
    "    def display_name(self,first_name):\n",
    "        print(f'You have entered - {self.title} {first_name}')\n",
    "        \n",
    "person=Person()\n",
    "print(person.title)\n",
    "\n",
    "# Here title is a class variable, its value is defined on the class level.\n",
    "\n",
    "person.display_name('Ashish')\n",
    "\n",
    "# Here first_name is a instance varibale whose value can change on every instance"
   ]
  },
  {
   "cell_type": "code",
   "execution_count": 20,
   "id": "464871dd",
   "metadata": {},
   "outputs": [],
   "source": [
    "# 6. What is the purpose of the self parameter in Python class methods?\n",
    "#Ans6. The self parameter is a reference to the current instance of the class, and is used to access variables that belongs\n",
    "#to the class.\n",
    "\n",
    "class Person:\n",
    "    def __init__(self):\n",
    "        pass"
   ]
  },
  {
   "cell_type": "code",
   "execution_count": 36,
   "id": "05205d57",
   "metadata": {},
   "outputs": [
    {
     "name": "stdout",
     "output_type": "stream",
     "text": [
      "Check out successfully done!\n",
      "Book is returned successfully!\n",
      "2 States - AXUSM121 written by Chetan Bhagat published in 2009 year is having 100 copies in library.\n"
     ]
    }
   ],
   "source": [
    "# 7. For a library management system, you have to design the \"Book\" class with OOP\n",
    "#principles in mind. The “Book” class will have following attributes:\n",
    "#a. title: Represents the title of the book.\n",
    "#b. author: Represents the author(s) of the book.\n",
    "#c. isbn: Represents the ISBN (International Standard Book Number) of the book.\n",
    "#d. publication_year: Represents the year of publication of the book.\n",
    "#e. available_copies: Represents the number of copies available for checkout.\n",
    "\n",
    "#The class will also include the following methods:\n",
    "#a. check_out(self): Decrements the available copies by one if there are copies\n",
    "#available for checkout.\n",
    "#b. return_book(self): Increments the available copies by one when a book is\n",
    "#returned.\n",
    "#c. display_book_info(self): Displays the information about the book, including its\n",
    "#attributes and the number of available copies.\n",
    "\n",
    "#Ans7. Below is the code:\n",
    "\n",
    "class Book:\n",
    "    \n",
    "    def __init__(self,title,author,isbn,publication_year,available_copies):\n",
    "        self.title=title\n",
    "        self.author=author\n",
    "        self.isbn=isbn\n",
    "        self.publication_year=publication_year\n",
    "        self.available_copies=int(available_copies)\n",
    "        \n",
    "    def check_out(self):\n",
    "        self.available_copies=self.available_copies - 1\n",
    "        print('Check out successfully done!')\n",
    "        \n",
    "    def return_book(self):\n",
    "        self.available_copies=self.available_copies + 1\n",
    "        print('Book is returned successfully!')\n",
    "        \n",
    "    def display_book_info(self):\n",
    "        print('{} - {} written by {} published in {} year is having {} copies in library.'.format(self.title,self.isbn,self.author,self.publication_year,\n",
    "                                                                                 self.available_copies))\n",
    "        \n",
    "        \n",
    "book= Book('2 States','Chetan Bhagat','AXUSM121','2009',100)\n",
    "book.check_out()\n",
    "book.return_book()\n",
    "book.display_book_info()\n",
    "        "
   ]
  },
  {
   "cell_type": "code",
   "execution_count": 39,
   "id": "ed156339",
   "metadata": {},
   "outputs": [
    {
     "name": "stdout",
     "output_type": "stream",
     "text": [
      "Hurray! Your seat is booked.\n",
      "Your ticket has been cancelled.\n",
      "Your ticket - MOV100 is booked with the seat no. E11 for Movie on 10-July-2023 in INOX at the cost of Rs. 1120\n"
     ]
    }
   ],
   "source": [
    "# 8. For a ticket booking system, you have to design the \"Ticket\" class with OOP\n",
    "#principles in mind. The “Ticket” class should have the following attributes:\n",
    "#a. ticket_id: Represents the unique identifier for the ticket.\n",
    "#b. event_name: Represents the name of the event.\n",
    "#c. event_date: Represents the date of the event.\n",
    "#d. venue: Represents the venue of the event.\n",
    "#e. seat_number: Represents the seat number associated with the ticket.\n",
    "#f. price: Represents the price of the ticket.\n",
    "#g. is_reserved: Represents the reservation status of the ticket.\n",
    "\n",
    "#The class also includes the following methods:\n",
    "#a. reserve_ticket(self): Marks the ticket as reserved if it is not already reserved.\n",
    "#b. cancel_reservation(self): Cancels the reservation of the ticket if it is already\n",
    "#reserved.\n",
    "#c. display_ticket_info(self): Displays the information about the ticket, including its\n",
    "#attributes and reservation status.\n",
    "\n",
    "#Ans8. Code is here:\n",
    "\n",
    "class Ticket:\n",
    "    \n",
    "    def __init__(self,ticket_id,event_name,event_date,venue,seat_number,price,is_reserved):\n",
    "        self.ticket_id=ticket_id\n",
    "        self.event_name=event_name\n",
    "        self.event_date=event_date\n",
    "        self.venue=venue\n",
    "        self.seat_number=seat_number\n",
    "        self.price=price\n",
    "        self.is_reserved=bool(is_reserved)\n",
    "        \n",
    "    def reserve_ticket(self):\n",
    "        if self.is_reserved == False:\n",
    "            self.is_reserved = True\n",
    "            print('Hurray! Your seat is booked.')\n",
    "        else:\n",
    "            print('Sorry! Seat is already reserved.')\n",
    "            \n",
    "    def cancel_reservation(self):\n",
    "        if self.is_reserved == True:\n",
    "            self.is_reserved = False\n",
    "            print('Your ticket has been cancelled.')\n",
    "        else:\n",
    "            print('No booking found.')\n",
    "            \n",
    "    def display_ticket_info(self):\n",
    "        print(f'Your ticket - {self.ticket_id} is booked with the seat no. {self.seat_number} for {self.event_name} on {self.event_date} in {self.venue} at the cost of Rs. {self.price}')\n",
    "              \n",
    "ticket=Ticket('MOV100','Movie','10-July-2023','INOX','E11','1120',False)\n",
    "ticket.reserve_ticket()\n",
    "ticket.cancel_reservation()\n",
    "ticket.display_ticket_info()"
   ]
  },
  {
   "cell_type": "code",
   "execution_count": 51,
   "id": "0a7f67f8",
   "metadata": {},
   "outputs": [
    {
     "name": "stdout",
     "output_type": "stream",
     "text": [
      "Bread is successfully added into the cart.\n",
      "Oil is successfully added into the cart.\n",
      "Sugar is successfully added into the cart.\n",
      "Oil is successfully removed from the cart.\n",
      "Bread\n",
      "Sugar\n",
      "There is no item in the cart.\n"
     ]
    }
   ],
   "source": [
    "# 9. You are creating a shopping cart for an e-commerce website. Using OOP to model\n",
    "#the \"ShoppingCart\" functionality the class should contain following attributes and\n",
    "#methods:\n",
    "#a. items: Represents the list of items in the shopping cart.\n",
    "#The class also includes the following methods:\n",
    "#a. add_item(self, item): Adds an item to the shopping cart by appending it to the\n",
    "#list of items.\n",
    "#b. remove_item(self, item): Removes an item from the shopping cart if it exists in\n",
    "#the list.\n",
    "#c. view_cart(self): Displays the items currently present in the shopping cart.\n",
    "#d. clear_cart(self): Clears all items from the shopping cart by reassigning an\n",
    "#empty list to the items attribute.\n",
    "\n",
    "# Ans9. Code is below:\n",
    "\n",
    "class ShoppingCart:\n",
    "    def __init__(self):\n",
    "        self.items=[]\n",
    "        \n",
    "    def add_item(self, item):\n",
    "        self.items.append(item)\n",
    "        print(f'{item} is successfully added into the cart.')\n",
    "        \n",
    "    def remove_item(self, item):\n",
    "        self.items.remove(item)\n",
    "        print(f'{item} is successfully removed from the cart.')\n",
    "        \n",
    "    def view_cart(self):\n",
    "        for item in self.items:\n",
    "            print(item)\n",
    "            \n",
    "    def clear_cart(self):\n",
    "        self.items.clear()\n",
    "        print('There is no item in the cart.')\n",
    "        \n",
    "shoppingcart=ShoppingCart()\n",
    "shoppingcart.add_item('Bread')\n",
    "shoppingcart.add_item('Oil')\n",
    "shoppingcart.add_item('Sugar')\n",
    "\n",
    "shoppingcart.remove_item('Oil')\n",
    "        \n",
    "shoppingcart.view_cart()\n",
    "\n",
    "shoppingcart.clear_cart()"
   ]
  },
  {
   "cell_type": "code",
   "execution_count": 85,
   "id": "05fcd73c",
   "metadata": {},
   "outputs": [
    {
     "name": "stdout",
     "output_type": "stream",
     "text": [
      "Attendance is updated for Ashish as Absent on 10-July-2023\n",
      "Attendance is updated for Ashish as Present on 11-July-2023\n",
      "Attendance is updated for Ashish as Present on 12-July-2023\n",
      "10-July-2023 - Absent\n",
      "11-July-2023 - Present\n",
      "12-July-2023 - Present\n",
      "Average of Presense is 66.67 and Absense is 33.33\n"
     ]
    }
   ],
   "source": [
    "# 10. Imagine a school management system. You have to design the \"Student\" class using\n",
    "#OOP concepts.The “Student” class has the following attributes:\n",
    "#a. name: Represents the name of the student.\n",
    "#b. age: Represents the age of the student.\n",
    "#c. grade: Represents the grade or class of the student.\n",
    "#d. student_id: Represents the unique identifier for the student.\n",
    "#e. attendance: Represents the attendance record of the student.\n",
    "    \n",
    "#The class should also include the following methods:\n",
    "#a. update_attendance(self, date, status): Updates the attendance record of the\n",
    "#student for a given date with the provided status (e.g., present or absent).\n",
    "#b. get_attendance(self): Returns the attendance record of the student.\n",
    "#c. get_average_attendance(self): Calculates and returns the average\n",
    "#attendance percentage of the student based on their attendance record.\n",
    "\n",
    "# Ans10. Code is below:\n",
    "\n",
    "class Student:\n",
    "    \n",
    "    def __init__(self, name, age, grade, student_id, attendance):\n",
    "        self.name=name\n",
    "        self.age=age\n",
    "        self.grade=grade\n",
    "        self.student_id=student_id\n",
    "        self.attendance=attendance\n",
    "        self.status_dic={}\n",
    "      \n",
    "    def update_attendance(self, date, status):\n",
    "        self.status=status\n",
    "        self.date=date\n",
    "        self.status_dic[self.date]=self.status\n",
    "        print('Attendance is updated for {} as {} on {}'.format(self.name,self.status,self.date))\n",
    "\n",
    "    def get_attendance(self):\n",
    "        for st in self.status_dic:\n",
    "            print(st +' - '+self.status_dic[st])\n",
    "            \n",
    "    def get_average_attendance(self):\n",
    "        dic_length= int(len(self.status_dic))\n",
    "        present_count = 0\n",
    "        absent_count = 0\n",
    "        for item in self.status_dic:\n",
    "            if self.status_dic[item]=='Present':\n",
    "                present_count += 1\n",
    "            elif self.status_dic[item]=='Absent':\n",
    "                absent_count += 1\n",
    "                    \n",
    "        avg_present=(present_count/dic_length)*100\n",
    "        avg_absent=(absent_count/dic_length)*100\n",
    "        \n",
    "        print(f'Average of Presense is {avg_present:.2f} and Absense is {avg_absent:.2f}')\n",
    "            \n",
    "        \n",
    "student=Student('Ashish','30','M.Tech','09289','Present')\n",
    "student.update_attendance('10-July-2023','Absent')\n",
    "student.update_attendance('11-July-2023','Present')\n",
    "student.update_attendance('12-July-2023','Present')\n",
    "\n",
    "student.get_attendance()\n",
    "\n",
    "student.get_average_attendance()"
   ]
  },
  {
   "cell_type": "code",
   "execution_count": null,
   "id": "f09cac3f",
   "metadata": {},
   "outputs": [],
   "source": []
  },
  {
   "cell_type": "code",
   "execution_count": null,
   "id": "ba018420",
   "metadata": {},
   "outputs": [],
   "source": []
  }
 ],
 "metadata": {
  "kernelspec": {
   "display_name": "Python 3 (ipykernel)",
   "language": "python",
   "name": "python3"
  },
  "language_info": {
   "codemirror_mode": {
    "name": "ipython",
    "version": 3
   },
   "file_extension": ".py",
   "mimetype": "text/x-python",
   "name": "python",
   "nbconvert_exporter": "python",
   "pygments_lexer": "ipython3",
   "version": "3.10.9"
  }
 },
 "nbformat": 4,
 "nbformat_minor": 5
}
